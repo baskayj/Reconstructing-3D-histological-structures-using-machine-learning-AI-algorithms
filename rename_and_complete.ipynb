{
 "cells": [
  {
   "cell_type": "code",
   "execution_count": 1,
   "id": "34b4f3a9",
   "metadata": {},
   "outputs": [],
   "source": [
    "import os\n",
    "from shutil import copyfile\n",
    "\n",
    "\n",
    "import pandas as pd\n",
    "import numpy as np\n",
    "import matplotlib.pyplot as plt\n",
    "import cv2 as cv\n",
    "from PIL import Image\n",
    "import pickle\n",
    "\n",
    "from matplotlib import image\n",
    "from tqdm import tqdm\n",
    "\n",
    "from sklearn.metrics import accuracy_score\n",
    "from sklearn.metrics import precision_score\n",
    "from sklearn.metrics import recall_score"
   ]
  },
  {
   "cell_type": "code",
   "execution_count": 2,
   "id": "1c023581",
   "metadata": {},
   "outputs": [],
   "source": [
    "DATA_PATH = os.getcwd() + '/Data/'"
   ]
  },
  {
   "cell_type": "markdown",
   "id": "54d06c7f",
   "metadata": {},
   "source": [
    "---"
   ]
  },
  {
   "cell_type": "markdown",
   "id": "de40ff14",
   "metadata": {},
   "source": [
    "# Rename and Save"
   ]
  },
  {
   "cell_type": "code",
   "execution_count": 3,
   "id": "f046f494",
   "metadata": {},
   "outputs": [
    {
     "name": "stdout",
     "output_type": "stream",
     "text": [
      "No. of images =  25\n"
     ]
    }
   ],
   "source": [
    "ids = next(os.walk(f\"{DATA_PATH}predicted_corrected/\"))[2]\n",
    "print(\"No. of images = \", len(ids))"
   ]
  },
  {
   "cell_type": "code",
   "execution_count": 4,
   "id": "869d311f",
   "metadata": {},
   "outputs": [
    {
     "name": "stderr",
     "output_type": "stream",
     "text": [
      "100%|███████████████████████████████████████████████████████████████████████████████████| 25/25 [01:14<00:00,  2.99s/it]\n"
     ]
    }
   ],
   "source": [
    "# Finding out how much we can crop\n",
    "img = 255 - cv.imread(f\"{DATA_PATH}predicted_corrected/{ids[0]}\",0)\n",
    "edged = cv.Canny(img, 100, 255)\n",
    "thresh = cv.adaptiveThreshold(edged, 255, 1, 1, 11, 2)\n",
    "thresh = cv.dilate(thresh, None, iterations=15)\n",
    "thresh = cv.erode(thresh, None, iterations=15)\n",
    "contours, hierarchy = cv.findContours(thresh, cv.RETR_TREE, cv.CHAIN_APPROX_NONE)\n",
    "armax = 0\n",
    "X = 0\n",
    "Y = 0\n",
    "W = 0\n",
    "H = 0\n",
    "for cnt in contours:\n",
    "    x, y, w, h = cv.boundingRect(cnt)\n",
    "    if w*h > armax:\n",
    "        armax = w*h\n",
    "        X = x-200\n",
    "        Y = y-200\n",
    "        W = w+400\n",
    "        H = h+400\n",
    "\n",
    "#Getting the length of the digits\n",
    "max_len = 0\n",
    "for i in ids:\n",
    "    ii = int(i.replace(\"F_\",\"\").replace(\".png\",\"\"))*5\n",
    "    if len(str(ii)) > max_len:\n",
    "        max_len = len(str(ii))\n",
    "\n",
    "# Saving the Images in the Apropriate folder, with the right name\n",
    "for i in tqdm(ids):\n",
    "    ii = int(i.replace(\"F_\",\"\").replace(\".png\",\"\"))*5\n",
    "    k = max_len - len(str(ii))\n",
    "    ii = k*\"0\" + str(ii)\n",
    "    new_name = i.replace(i.replace(\"F_\",\"\").replace(\".png\",\"\"),ii).replace(\".png\",\".tif\")\n",
    "    new_name_png = i.replace(i.replace(\"F_\",\"\").replace(\".png\",\"\"),ii)\n",
    "    new_name_bmp = i.replace(i.replace(\"F_\",\"\").replace(\".png\",\"\"),ii).replace(\".png\",\".bmp\")\n",
    "    img = 255 - cv.imread(f\"{DATA_PATH}predicted_corrected/{i}\",0)\n",
    "    img_color = cv.imread(f\"{DATA_PATH}predicted_corrected/raw_color/{i}\")\n",
    "    img_roi = cv.imread(f\"{DATA_PATH}predicted_corrected/roi/{i}\",0)\n",
    "    _,img_roi = cv.threshold(img_roi, 128, 255, cv.THRESH_BINARY)\n",
    "    img_color = cv.bitwise_and(img_color,img_color,mask = img.astype(np.uint8))\n",
    "    cv.imwrite(f\"{DATA_PATH}predicted_completed/{new_name}\",img[Y:(Y+H),X:(X+W)])\n",
    "    cv.imwrite(f\"{DATA_PATH}predicted_completed/png/{new_name_png}\",img[Y:(Y+H),X:(X+W)])\n",
    "    cv.imwrite(f\"{DATA_PATH}predicted_completed/png_color/{new_name_png}\",img_color[Y:(Y+H),X:(X+W)])\n",
    "    cv.imwrite(f\"{DATA_PATH}predicted_completed/tif_color/{new_name}\",img_color[Y:(Y+H),X:(X+W)])\n",
    "    cv.imwrite(f\"{DATA_PATH}predicted_completed/roi/{new_name_bmp}\",img_roi[Y:(Y+H),X:(X+W)])"
   ]
  },
  {
   "cell_type": "code",
   "execution_count": 38,
   "id": "f3f22363",
   "metadata": {},
   "outputs": [],
   "source": [
    "# Finding out how much we can crop\n",
    "'''img = 255 - cv.imread(f\"{DATA_PATH}predicted_corrected/{ids[0]}\",0)\n",
    "edged = cv.Canny(img, 100, 255)\n",
    "thresh = cv.adaptiveThreshold(edged, 255, 1, 1, 11, 2)\n",
    "thresh = cv.dilate(thresh, None, iterations=15)\n",
    "thresh = cv.erode(thresh, None, iterations=15)\n",
    "contours, hierarchy = cv.findContours(thresh, cv.RETR_TREE, cv.CHAIN_APPROX_NONE)\n",
    "armax = 0\n",
    "X = 0\n",
    "Y = 0\n",
    "W = 0\n",
    "H = 0\n",
    "for cnt in contours:\n",
    "    x, y, w, h = cv.boundingRect(cnt)\n",
    "    if w*h > armax:\n",
    "        armax = w*h\n",
    "        X = x-200\n",
    "        Y = y-200\n",
    "        W = w+400\n",
    "        H = h+400\n",
    "\n",
    "#Getting the length of the digits\n",
    "max_len = 0\n",
    "for i in ids:\n",
    "    ii = int(i.replace(\"F_\",\"\").replace(\".png\",\"\"))*5\n",
    "    if len(str(ii)) > max_len:\n",
    "        max_len = len(str(ii))\n",
    "\n",
    "# Saving the Images in the Apropriate folder, with the right name\n",
    "for i in ids:\n",
    "    ii = int(i.replace(\"F_\",\"\").replace(\".png\",\"\"))*5\n",
    "    k = max_len - len(str(ii))\n",
    "    ii = k*\"0\" + str(ii)\n",
    "    new_name = i.replace(i.replace(\"F_\",\"\").replace(\".png\",\"\"),ii).replace(\".png\",\".tif\")\n",
    "    new_name_png = i.replace(i.replace(\"F_\",\"\").replace(\".png\",\"\"),ii)\n",
    "    new_name_bmp = i.replace(i.replace(\"F_\",\"\").replace(\".png\",\"\"),ii).replace(\".png\",\".bmp\")\n",
    "    img = 255 - cv.imread(f\"{DATA_PATH}predicted_corrected/{i}\",0)\n",
    "    img_color = cv.imread(f\"{DATA_PATH}predicted_corrected/raw_color/{i}\")\n",
    "    img_roi = img.copy()\n",
    "    edged = cv.Canny(img_roi, 100, 255)\n",
    "    thresh = cv.adaptiveThreshold(edged, 255, 1, 1, 11, 2)\n",
    "    thresh = cv.dilate(thresh, None, iterations=200)\n",
    "    thresh = cv.erode(thresh, None, iterations=180)\n",
    "    contours, hierarchy = cv.findContours(thresh, cv.RETR_TREE, cv.CHAIN_APPROX_NONE)\n",
    "    armax = 0\n",
    "    for cnt in contours:\n",
    "        x, y, w, h = cv.boundingRect(cnt)\n",
    "        if w*h > armax:\n",
    "            cnt_max = cnt\n",
    "            armax = w*h\n",
    "    img_roi = cv.fillPoly(np.zeros(np.shape(img_roi)), pts =[cnt_max], color=(255,255,255))\n",
    "    img_color = cv.bitwise_and(img_color,img_color,mask = img.astype(np.uint8))\n",
    "    cv.imwrite(f\"{DATA_PATH}predicted_completed/{new_name}\",img[Y:(Y+H),X:(X+W)])\n",
    "    cv.imwrite(f\"{DATA_PATH}predicted_completed/png/{new_name_png}\",img[Y:(Y+H),X:(X+W)])\n",
    "    cv.imwrite(f\"{DATA_PATH}predicted_completed/png_color/{new_name_png}\",img_color[Y:(Y+H),X:(X+W)])\n",
    "    cv.imwrite(f\"{DATA_PATH}predicted_completed/tif_color/{new_name}\",img_color[Y:(Y+H),X:(X+W)])\n",
    "    cv.imwrite(f\"{DATA_PATH}predicted_completed/roi/{new_name_bmp}\",img_roi[Y:(Y+H),X:(X+W)])'''"
   ]
  },
  {
   "cell_type": "markdown",
   "id": "bc8d3854",
   "metadata": {},
   "source": [
    "# Complete"
   ]
  },
  {
   "cell_type": "code",
   "execution_count": 5,
   "id": "b8ea0041",
   "metadata": {},
   "outputs": [
    {
     "name": "stdout",
     "output_type": "stream",
     "text": [
      "No. of images =  191\n"
     ]
    }
   ],
   "source": [
    "ids = next(os.walk(f\"{DATA_PATH}predicted_completed/\"))[2]\n",
    "print(\"No. of images = \", len(ids))"
   ]
  },
  {
   "cell_type": "code",
   "execution_count": 7,
   "id": "cd431d1b",
   "metadata": {},
   "outputs": [],
   "source": [
    "copy_list = []\n",
    "for i in range(len(ids)-1):\n",
    "    ii = int(ids[i].replace(\"F_\",\"\").replace(\".tif\",\"\"))\n",
    "    iii = int(ids[i+1].replace(\"F_\",\"\").replace(\".tif\",\"\"))\n",
    "    if not iii == ii + 1:\n",
    "        num_missing = iii-ii-1\n",
    "        for j in range(1,num_missing+1):\n",
    "            new_id = ii + j\n",
    "            base_name = ids[i]\n",
    "            name = ids[i].replace(str(ii),\"\").replace(\".tif\",\"\")\n",
    "            new_name = name + str(new_id) + \".tif\"\n",
    "            copy_dict = {\"id\":new_id,\"base_name\":base_name,\"new_name\":new_name}\n",
    "            copy_list.append(copy_dict)\n",
    "\n",
    "for i in range(len(copy_list)):\n",
    "    src = copy_list[i][\"base_name\"]\n",
    "    dst = copy_list[i][\"new_name\"]\n",
    "    copyfile(f\"{DATA_PATH}predicted_completed/{src}\",f\"{DATA_PATH}predicted_completed/{dst}\")"
   ]
  },
  {
   "cell_type": "code",
   "execution_count": 6,
   "id": "133d01f1",
   "metadata": {},
   "outputs": [
    {
     "name": "stdout",
     "output_type": "stream",
     "text": [
      "No. of images =  25\n"
     ]
    }
   ],
   "source": [
    "ids = next(os.walk(f\"{DATA_PATH}predicted_completed/tif_color/\"))[2]\n",
    "print(\"No. of images = \", len(ids))"
   ]
  },
  {
   "cell_type": "code",
   "execution_count": 7,
   "id": "a35e26c8",
   "metadata": {},
   "outputs": [],
   "source": [
    "copy_list = []\n",
    "for i in range(len(ids)-1):\n",
    "    ii = int(ids[i].replace(\"F_\",\"\").replace(\".tif\",\"\"))\n",
    "    iii = int(ids[i+1].replace(\"F_\",\"\").replace(\".tif\",\"\"))\n",
    "    if not iii == ii + 1:\n",
    "        num_missing = iii-ii-1\n",
    "        for j in range(1,num_missing+1):\n",
    "            new_id = ii + j\n",
    "            base_name = ids[i]\n",
    "            name = ids[i].replace(str(ii),\"\").replace(\".tif\",\"\")\n",
    "            new_name = name + str(new_id) + \".tif\"\n",
    "            copy_dict = {\"id\":new_id,\"base_name\":base_name,\"new_name\":new_name}\n",
    "            copy_list.append(copy_dict)\n",
    "\n",
    "for i in range(len(copy_list)):\n",
    "    src = copy_list[i][\"base_name\"]\n",
    "    dst = copy_list[i][\"new_name\"]\n",
    "    copyfile(f\"{DATA_PATH}predicted_completed/tif_color/{src}\",f\"{DATA_PATH}predicted_completed/tif_color/{dst}\")"
   ]
  },
  {
   "cell_type": "markdown",
   "id": "7ffabecf",
   "metadata": {},
   "source": [
    "# Downscale for reasonable runtime"
   ]
  },
  {
   "cell_type": "code",
   "execution_count": 38,
   "id": "a34f55bb",
   "metadata": {},
   "outputs": [
    {
     "name": "stdout",
     "output_type": "stream",
     "text": [
      "No. of images =  191\n"
     ]
    }
   ],
   "source": [
    "ids = next(os.walk(f\"{DATA_PATH}predicted_completed/\"))[2]\n",
    "print(\"No. of images = \", len(ids))"
   ]
  },
  {
   "cell_type": "code",
   "execution_count": 39,
   "id": "da2f1b3a",
   "metadata": {},
   "outputs": [],
   "source": [
    "for i in ids:\n",
    "    img = cv.imread(f\"{DATA_PATH}predicted_completed/{i}\",0)\n",
    "    scale_percent = 33 # percent of original size\n",
    "    width = int(img.shape[1] * scale_percent / 100)\n",
    "    height = int(img.shape[0] * scale_percent / 100)\n",
    "    dim = (width, height)\n",
    "    img_scaled = cv.resize(img, dim, interpolation = cv.INTER_AREA)\n",
    "    _,thresh = cv.threshold(img_scaled, 127, 255, cv.THRESH_BINARY)\n",
    "    _,thresh2 = cv.threshold(255-img_scaled, 254, 255, cv.THRESH_BINARY)\n",
    "    _,thresh3 = cv.threshold(255-thresh2-thresh, 127, 127, cv.THRESH_BINARY)\n",
    "    img_scaled = thresh3 + thresh\n",
    "    cv.imwrite(f\"{DATA_PATH}predicted_completed/downscaled/{i}\",img_scaled)"
   ]
  },
  {
   "cell_type": "code",
   "execution_count": null,
   "id": "15463c2a",
   "metadata": {},
   "outputs": [],
   "source": []
  },
  {
   "cell_type": "code",
   "execution_count": null,
   "id": "1a3c55af",
   "metadata": {},
   "outputs": [],
   "source": []
  },
  {
   "cell_type": "code",
   "execution_count": null,
   "id": "951e9b0c",
   "metadata": {},
   "outputs": [],
   "source": []
  },
  {
   "cell_type": "code",
   "execution_count": null,
   "id": "51d6a95a",
   "metadata": {},
   "outputs": [],
   "source": []
  }
 ],
 "metadata": {
  "kernelspec": {
   "display_name": "Python 3 (ipykernel)",
   "language": "python",
   "name": "python3"
  },
  "language_info": {
   "codemirror_mode": {
    "name": "ipython",
    "version": 3
   },
   "file_extension": ".py",
   "mimetype": "text/x-python",
   "name": "python",
   "nbconvert_exporter": "python",
   "pygments_lexer": "ipython3",
   "version": "3.8.10"
  }
 },
 "nbformat": 4,
 "nbformat_minor": 5
}
